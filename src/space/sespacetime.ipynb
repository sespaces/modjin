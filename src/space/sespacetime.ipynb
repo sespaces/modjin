{
 "cells": [
  {
   "cell_type": "code",
   "execution_count": 2,
   "metadata": {},
   "outputs": [
    {
     "name": "stderr",
     "output_type": "stream",
     "text": [
      "WARNING: redefining constant CTR\n",
      "WARNING: redefining constant X\n",
      "WARNING: redefining constant Y\n",
      "WARNING: redefining constant Z\n",
      "WARNING: redefining constant T\n",
      "WARNING: redefining constant U\n",
      "WARNING: redefining constant V\n",
      "WARNING: redefining constant W\n",
      "WARNING: redefining constant N\n",
      "WARNING: redefining constant O\n",
      "WARNING: redefining constant P\n",
      "WARNING: redefining constant Q\n",
      "WARNING: redefining constant R\n",
      "WARNING: redefining constant S\n",
      "WARNING: redefining constant φX\n",
      "WARNING: redefining constant ΦX\n",
      "WARNING: redefining constant φY\n",
      "WARNING: redefining constant ΦY\n",
      "WARNING: redefining constant φZ\n",
      "WARNING: redefining constant ΦZ\n",
      "WARNING: redefining constant φT\n",
      "WARNING: redefining constant ΦT\n",
      "WARNING: redefining constant φU\n",
      "WARNING: redefining constant ΦU\n",
      "WARNING: redefining constant φV\n",
      "WARNING: redefining constant ΦV\n",
      "WARNING: redefining constant φW\n",
      "WARNING: redefining constant ΦW\n",
      "WARNING: redefining constant φN\n",
      "WARNING: redefining constant ΦN\n",
      "WARNING: redefining constant φO\n",
      "WARNING: redefining constant ΦO\n",
      "WARNING: redefining constant φP\n",
      "WARNING: redefining constant ΦP\n",
      "WARNING: redefining constant φQ\n",
      "WARNING: redefining constant ΦQ\n",
      "WARNING: redefining constant φR\n",
      "WARNING: redefining constant ΦR\n",
      "WARNING: redefining constant φS\n",
      "WARNING: redefining constant ΦS\n",
      "WARNING: redefining constant Nφ\n",
      "WARNING: redefining constant Oφ\n",
      "WARNING: redefining constant Pφ\n",
      "WARNING: redefining constant Qφ\n",
      "WARNING: redefining constant Rφ\n",
      "WARNING: redefining constant Sφ\n",
      "WARNING: redefining constant NΦ\n",
      "WARNING: redefining constant OΦ\n",
      "WARNING: redefining constant PΦ\n",
      "WARNING: redefining constant QΦ\n",
      "WARNING: redefining constant RΦ\n",
      "WARNING: redefining constant SΦ\n",
      "WARNING: redefining constant TETRA_VERTS\n",
      "WARNING: redefining constant OCTA_VERTS\n",
      "WARNING: redefining constant CUBE_VERTS\n",
      "WARNING: redefining constant DODECA_VERTS\n",
      "WARNING: redefining constant ICOSO_VERTS\n",
      "WARNING: redefining constant TRIACONTA_VERTS\n",
      "WARNING: redefining constant RHOMBIC_DODECA_VERTS\n"
     ]
    },
    {
     "data": {
      "text/plain": [
       "0.3141592653589793"
      ]
     },
     "execution_count": 2,
     "metadata": {},
     "output_type": "execute_result"
    }
   ],
   "source": [
    "using Geodesy\n",
    "include(\"mathies.jl\")"
   ]
  },
  {
   "cell_type": "code",
   "execution_count": 3,
   "metadata": {},
   "outputs": [
    {
     "data": {
      "text/plain": [
       "ECEF(-195096.58265667254, 5.512084465685038e6, 3.1923052497591996e6)"
      ]
     },
     "execution_count": 3,
     "metadata": {},
     "output_type": "execute_result"
    }
   ],
   "source": [
    "myspot = LLA( 30.228711, 92.027100 )\n",
    "ced404 = LLA( 30.228678, 92.027272 )\n",
    "ber266 = LLA( 30.204461, 92.031397 )\n",
    "# if I wanted to do a 3-D transformation; to put into cartesian coordinates do \n",
    "myspotECEF = ECEF( myspot, wgs84 )"
   ]
  },
  {
   "cell_type": "code",
   "execution_count": 4,
   "metadata": {},
   "outputs": [
    {
     "data": {
      "text/plain": [
       "\" modgin treats space as an expanding or contracting series of pentagonally-arranged, overlapping circles \\n\\n    it divides/expands a circle into six new circles, with the centerpoint of the center circle remaining the same,\\n    and new centerpoints for the five new circles at predermined distances and angles from the original centerpoint\\n\\n    for this reason, mapping space in modgin relies heavily on the use of the \\\"ENU\\\" (East, North, Up) coordinate system; \\n    once the first 12 coordinates for earth's surface are established, the coordinates for every lower level are relative\\n    those positions\\n\\n    The SESpaces Coordinate System specifies twelve points on the globe as \\\"beads,\\\" or centerpoints for six regions \\n    each in the northern and southern hemispheres. \\n\\n    These regions \\n\""
      ]
     },
     "execution_count": 4,
     "metadata": {},
     "output_type": "execute_result"
    }
   ],
   "source": [
    "\"\"\" modgin treats space as an expanding or contracting series of pentagonally-arranged, overlapping circles \n",
    "\n",
    "    it divides/expands a circle into six new circles, with the centerpoint of the center circle remaining the same,\n",
    "    and new centerpoints for the five new circles at predermined distances and angles from the original centerpoint\n",
    "\n",
    "    for this reason, mapping space in modgin relies heavily on the use of the \"ENU\" (East, North, Up) coordinate system; \n",
    "    once the first 12 coordinates for earth's surface are established, the coordinates for every lower level are relative\n",
    "    those positions\n",
    "\n",
    "    The SESpaces Coordinate System specifies twelve points on the globe as \"beads,\" or centerpoints for six regions \n",
    "    each in the northern and southern hemispheres. \n",
    "\n",
    "    These regions \n",
    "\"\"\"    "
   ]
  }
 ],
 "metadata": {
  "kernelspec": {
   "display_name": "Julia 1.1.0",
   "language": "julia",
   "name": "julia-1.1"
  },
  "language_info": {
   "file_extension": ".jl",
   "mimetype": "application/julia",
   "name": "julia",
   "version": "1.1.0"
  }
 },
 "nbformat": 4,
 "nbformat_minor": 2
}
