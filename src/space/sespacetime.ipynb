{
 "cells": [
  {
   "cell_type": "code",
   "execution_count": 1,
   "metadata": {},
   "outputs": [
    {
     "data": {
      "text/plain": [
       "\"mathies.jl inclusion concluded\""
      ]
     },
     "execution_count": 1,
     "metadata": {},
     "output_type": "execute_result"
    }
   ],
   "source": [
    "# all things geodesic including transformations between standard \n",
    "# geospatial coordinate systems\n",
    "using Geodesy\n",
    "\n",
    "# for direct manipulations of Cartesian and Longitude-Latitude coordinates\n",
    "using CoordinateTransformations, Rotations, StaticArrays\n",
    "\n",
    "include(\"mathies.jl\")\n",
    "\n",
    "\n"
   ]
  },
  {
   "cell_type": "code",
   "execution_count": 2,
   "metadata": {},
   "outputs": [
    {
     "data": {
      "text/plain": [
       "12-element Array{Any,1}:\n",
       " Bead(LLA(lat=-90.0°, lon=90.0°, alt=0.0), 2.826390255215226e6, \"MA\", \"point 1 of 12 equidistant points\")      \n",
       " Bead(LLA(lat=-26.56505°, lon=-72.0°, alt=0.0), 2.826390255215226e6, \"BA\", \"point 2 of 12 equidistant points\") \n",
       " Bead(LLA(lat=-26.56505°, lon=144.0°, alt=0.0), 2.826390255215226e6, \"DA\", \"point 3 of 12 equidistant points\") \n",
       " Bead(LLA(lat=-26.56505°, lon=72.0°, alt=0.0), 2.826390255215226e6, \"LA\", \"point 4 of 12 equidistant points\")  \n",
       " Bead(LLA(lat=-26.56505°, lon=-144.0°, alt=0.0), 2.826390255215226e6, \"KA\", \"point 5 of 12 equidistant points\")\n",
       " Bead(LLA(lat=-26.56505°, lon=0.0°, alt=0.0), 2.826390255215226e6, \"SA\", \"point 6 of 12 equidistant points\")   \n",
       " Bead(LLA(lat=90.0°, lon=-90.0°, alt=0.0), 2.826390255215226e6, \"ME\", \"point 7 of 12 equidistant points\")      \n",
       " Bead(LLA(lat=26.56505°, lon=108.0°, alt=0.0), 2.826390255215226e6, \"BE\", \"point 8 of 12 equidistant points\")  \n",
       " Bead(LLA(lat=26.56505°, lon=-36.0°, alt=0.0), 2.826390255215226e6, \"DE\", \"point 9 of 12 equidistant points\")  \n",
       " Bead(LLA(lat=26.56505°, lon=-108.0°, alt=0.0), 2.826390255215226e6, \"LE\", \"point 10 of 12 equidistant points\")\n",
       " Bead(LLA(lat=26.56505°, lon=36.0°, alt=0.0), 2.826390255215226e6, \"KE\", \"point 11 of 12 equidistant points\")  \n",
       " Bead(LLA(lat=26.56505°, lon=180.0°, alt=0.0), 2.826390255215226e6, \"SE\", \"point 12 of 12 equidistant points\") "
      ]
     },
     "execution_count": 2,
     "metadata": {},
     "output_type": "execute_result"
    }
   ],
   "source": [
    "# generate the coordinates for global positioning centerpoints (beads)\n",
    "#   icosohedral vertices are centerpoints of the 12 dodecahedral regions \n",
    "\n",
    "\n",
    "# icoso_verts points have an edge not a vertex at top and bottom;\n",
    "# rotate -31.71 degrees ( -( pi/2 - atan(Φ) ) ) on the X axis\n",
    "rotateX  = LinearMap( RotX( -( pi/2 - atan(Φ)) ) )\n",
    "# that results in untidy longitudes; spin eastward 18 degrees\n",
    "rotateZ  = LinearMap( RotZ(pi/10) )\n",
    "# create a composite rotation\n",
    "rotate = rotateZ ∘ rotateX \n",
    "points = SVector.(rotate.(GEO_ICOSO_VERTS))\n",
    "\n",
    "\n",
    "\n",
    "# generate LLA's for each point\n",
    "\n",
    "\n",
    "# radius here is the distance of the vertex from the icosohedron center\n",
    "icoso_circumradius = sqrt(Φ^2 + 1)\n",
    "\n",
    "# latitude is asin(z / R)\n",
    "#   with rounding to prevent error in asin when |z/r| > 1\n",
    "bead_lats = asin.( round(point[3]/icoso_circumradius, sigdigits=9) for point in points)\n",
    "\n",
    "# longitude is atan2(y, x)\n",
    "bead_lons = [atan(point[2],point[1]) for point in points]\n",
    "\n",
    "degrees_lat = round.(rad2deg.(bead_lats), sigdigits=7)\n",
    "degrees_lon = round.(rad2deg.(bead_lons))\n",
    "\n",
    "earth12_labels = [\"MA\",\"BA\",\"DA\",\"LA\",\"KA\",\"SA\",\"ME\",\"BE\",\"DE\",\"LE\",\"KE\",\"SE\"]\n",
    "\n",
    "struct Bead\n",
    "    location::LLA\n",
    "    radius::Float64\n",
    "    label::String\n",
    "    description::String\n",
    "end\n",
    "\n",
    "expansion = 1 + 2π/5\n",
    "contraction = 1 / (1 + 2π/5)\n",
    "\n",
    "earth12 = []\n",
    "contracted_radius = contraction * earth_radius\n",
    "for i in 1:12    \n",
    "    push!(earth12, Bead(LLA(degrees_lat[i],  degrees_lon[i]),\n",
    "                        contracted_radius,\n",
    "                        earth12_labels[i],\n",
    "                        \"point \" * string(i) * \" of 12 equidistant points\"))\n",
    "end\n",
    "earth12\n"
   ]
  },
  {
   "cell_type": "code",
   "execution_count": 21,
   "metadata": {},
   "outputs": [
    {
     "name": "stdout",
     "output_type": "stream",
     "text": [
      "directions[]; SVector(s) of North,East tuples; in radians: \n",
      "SArray{Tuple{2},T,1,2} where T[[0, 0], [0.309017, -0.951057], [-0.809017, -0.587785], [-0.809017, 0.587785], [0.309017, 0.951057], [1.61803, 0.0]]\n",
      "\n",
      "directions[] as above, but in degrees: \n",
      "SArray{Tuple{2},Float64,1,2}[[0.0, 0.0], [17.7054, -54.4915], [-46.3533, -33.6776], [-46.3533, 33.6776], [17.7054, 54.4915], [92.7065, 0.0]]\n",
      "\n",
      "My Spot (LLA): \n",
      "LLA(lat=30.228711°, lon=92.0271°, alt=0.0)\n",
      "\n",
      "Earth-Centred Earth-Fixed: \n",
      "[-1.95097e5, 5.51208e6, 3.19231e6]\n",
      "\n",
      "Composite Translation (North, East): \n",
      "LinearMap([0.553312 -0.304122 -0.775471; 0.176641 0.952633 -0.247565; 0.81403 0.0 0.580823])\n",
      "\n",
      "Latitude rotation linear map: \n",
      "LinearMap([0.580823 0.0 -0.81403; 0.0 1.0 0.0; 0.81403 0.0 0.580823])\n",
      "\n",
      "new_lat = lat_rot(myspot_ecef): \n",
      "[-2.71195e6, 5.51208e6, 1.69535e6]\n",
      "\n"
     ]
    },
    {
     "ename": "MethodError",
     "evalue": "MethodError: no method matching (::LLAfromECEF)(::SArray{Tuple{3},Float64,1,3})\nClosest candidates are:\n  LLAfromECEF(!Matched::ECEF) at /home/dhm/.julia/packages/Geodesy/qjth5/src/transformations.jl:58",
     "output_type": "error",
     "traceback": [
      "MethodError: no method matching (::LLAfromECEF)(::SArray{Tuple{3},Float64,1,3})\nClosest candidates are:\n  LLAfromECEF(!Matched::ECEF) at /home/dhm/.julia/packages/Geodesy/qjth5/src/transformations.jl:58",
      "",
      "Stacktrace:",
      " [1] top-level scope at In[21]:76"
     ]
    }
   ],
   "source": [
    "# pi/10 is 18 degrees, 3 * pi/10 is 54\n",
    "# in geographic terms, the first element of each pair is North (Z+), the second is East (Y+)\n",
    "directions = SVector.([ ( 0           ,  0            ), \n",
    "                        ( sin(pi/10)  , -cos(pi/10)   ), \n",
    "                        (-sin(3*pi/10), -cos(3*pi/10) ), \n",
    "                        (-sin(3*pi/10),  cos(3*pi/10) ),\n",
    "                        ( sin(pi/10)  ,  cos(pi/10)   ), \n",
    "                        ( Φ           ,  0            )])\n",
    "println(\"directions[]; SVector(s) of North,East tuples; in radians: \\n\",\n",
    "        directions, \"\\n\")\n",
    "\n",
    "# NEED TO DO: get wgs84 meshed in, as results seem weird\n",
    "# so doing:\n",
    "#LinearMap(RotZ(direction[1])) ∘ LinearMap(RotY(direction[2])))\n",
    "#LinearMap(RotY(direction[2])))\n",
    "LinearMap(RotZ(directions[2][1]))\n",
    "\n",
    "\n",
    "directions_degrees = [rad2deg.(direction) for direction in directions]\n",
    "println(\"directions[] as above, but in degrees: \\n\",\n",
    "        directions_degrees, \"\\n\")\n",
    "\n",
    "# these directions help form transformations for expanding and and contracting an area;\n",
    "# nothing gets changed on X; Y is the East/second element; Z is the North/first element\n",
    "transformations = [] \n",
    "for direction in directions\n",
    "    push!(transformations, \n",
    "        LinearMap(RotZ(direction[1])) ∘ LinearMap(RotY(direction[2])))\n",
    "end\n",
    "# each point has its latitude and longitude calculated relative to the original point and the new radius \n",
    "\n",
    "labels = [\"M\",\"B\",\"D\",\"L\", \"K\", \"S\"]\n",
    "\n",
    "function contract(bead::Bead)\n",
    "    beads = []\n",
    "    radius = bead.radius * contraction\n",
    "    #radius = bead.radius # * contraction\n",
    "    ctr = bead.location\n",
    "    for i in 1:6         \n",
    "      push!(beads, \n",
    "        Bead(LLA(ctr.lat + rad2deg(directions[i][1]), \n",
    "                 ctr.lon + rad2deg(directions[i][2])), \n",
    "                 radius, \n",
    "                 bead.label * labels[i],\n",
    "                 \"\" ))\n",
    "    end\n",
    "    return beads \n",
    "end\n",
    "\n",
    "# my current longitude and latitude; altitude is set to 0.0 because it's unneeded\n",
    "myspot = myspot_lla = LLA( 30.228711, 92.027100, 0.0 )\n",
    "println(\"My Spot (LLA): \\n\", myspot,\"\\n\")\n",
    "\n",
    "\n",
    "\n",
    "# in Earth-Centred Earth-Fixed coordinates\n",
    "myspot_ecef = ECEFfromLLA(wgs84)(myspot_lla)\n",
    "println(\"Earth-Centred Earth-Fixed: \\n\",  myspot_ecef, \"\\n\")\n",
    "\n",
    "## composite = LinearMap(RotZ(directions[2][1])) ∘ \n",
    "##            LinearMap(RotY(directions[2][2]))\n",
    "composite = transformations[2]\n",
    "println(\"Composite Translation (North, East): \\n\",  composite, \"\\n\")\n",
    "\n",
    "\n",
    "\n",
    "### AAAARRRRRRGGGGHHHHH    ;)\n",
    "\n",
    "# Latitude rotation occurs first\n",
    "lat_rot = LinearMap(RotY(directions[2][2]))\n",
    "println(\"Latitude rotation linear map: \\n\", lat_rot, \"\\n\")\n",
    "\n",
    "#ECEF(wgs84)\n",
    "new_lat = lat_rot(myspot_ecef)\n",
    "println(\"new_lat = lat_rot(myspot_ecef): \\n\", new_lat, \"\\n\")\n",
    "println(LLAfromECEF(wgs84)(new_lat))\n",
    "newlat_lla = LLA(new_lat,wgs84)\n",
    "#lat_rot(myspot_ecef)\n",
    "println(\"new_lat_lla = nwlat #lat_rot(myspot_ecef): \\n\", newlat_lla, \"\\n\")\n",
    "\n",
    "# this doesn't work:\n",
    "#my_trans_ecef = ECEF(composite(myspot_ecef))\n",
    "## nor does this:\n",
    "#my_trans_ecef = ECEF(wgs84)(composite(myspot_ecef))\n",
    "\n",
    "#println(\"Composite translation of ecef: \\n\",  my_trans_ecef, \"\\n\")\n",
    "\n",
    "#my_trans_lla = LLAfromECEF(wgs84)(my_trans_ecef)\n",
    "#println(\"New spot, as LLA: \\n\", my_trans_lla, \"\\n\")\n",
    "#trans(ECEF(myspot,wgs84))\n",
    "\n",
    "\n",
    "#directions_degrees\n",
    "\n",
    "#my_trans_ecef = trans(my_ecef)\n",
    "#my_trans_lla = LLAfromECEF(wgs84)(my_trans_ecef)\n",
    "\n",
    "#trans_lla_ecef = LLAfromECEF(wgs84)\n",
    "#my_trans_lla = trans_lla_ecef(my_trans_ecef)\n",
    "    \n",
    "#LinearMap(RotZ(directions[2][1]))\n",
    "#lat_rot"
   ]
  },
  {
   "cell_type": "code",
   "execution_count": 174,
   "metadata": {},
   "outputs": [
    {
     "data": {
      "text/plain": [
       "LLA(lat=-116.56505°, lon=18.0°, alt=0.0)"
      ]
     },
     "execution_count": 174,
     "metadata": {},
     "output_type": "execute_result"
    }
   ],
   "source": [
    "center = bead.location\n",
    "MA_point = LLA(-26.56505, -72.0, 0.0)\n",
    "transformation = ENUfromLLA(center, wgs84)\n",
    "#MA_location = LLAfromENU(transformation(MA_point),wgs84)\n",
    "#LLAfromECEF(transformation(MA_point),wgs84)\n",
    "enu = ECEF(center,wgs84)\n",
    "#LLAfromENU(enu)\n",
    "ma_vec = ENU(-72,26.56,0)\n",
    "origin = ECEF(0,90,-90)\n",
    "originenu = ENU(origin)\n",
    "\n",
    "lfe = LLAfromECEF(wgs84)\n",
    "lfe(origin)\n",
    "efl = ECEFfromLLA(wgs84)\n",
    "efl(lfe(origin))\n",
    "lfn = LLAfromENU(center,wgs84)\n",
    "#bead_1_location\n",
    "#center,MA_point[1]\n",
    "#transformation\n",
    "#MA_location = LLAfromENU(transformation,wgs84)\n",
    "#MA_location = LLAfromENU(transformation,wgs84)\n",
    "lfn\n",
    "ma_vec\n",
    "originenu\n",
    "\n",
    "#LLAfromENU(origin, datum) = LLAfromECEF(datum) ∘ ECEFfromENU(origin, datum)\n",
    "#efenu = ECEFfromENU(origin,wgs84)\n",
    "#LLAfromECEF(wgs84)\n",
    "#trans = LLAfromENU(originenu,wgs84)\n",
    "\n",
    "MA_point = LLA(-26.56505, -72.0, 0.0)\n",
    "point_trans = ENUfromECEF(MA_point,wgs84)\n",
    "originLLA = LLA(-90.0,90.0,0.0)\n",
    "#originENU = ENUfromECEF(originLLA,wgs84)\n",
    "\n",
    "#newpoint = ENU(MA_point,originLLA,wgs84)\n",
    "#newpoint = ENU(originLLA,MA_point,wgs84)\n",
    "#originENU(originLLA,wgs84)\n",
    "trans = ENUfromLLA(MA_point,wgs84)\n",
    "trans(MA_point)\n",
    "v = LLA(20.,30.,0.)\n",
    "vectrans = ENUfromECEF(v,wgs84)\n",
    "#vectrans(originLLA,wgs84)\n",
    "originLLA\n",
    "o,m = originLLA , MA_point\n",
    "\n",
    "newpoint = LLA(o.lat + m.lat, o.lon + m.lon, o.alt + m.alt)"
   ]
  },
  {
   "cell_type": "code",
   "execution_count": 204,
   "metadata": {},
   "outputs": [
    {
     "name": "stdout",
     "output_type": "stream",
     "text": [
      "2.7138"
     ]
    },
    {
     "data": {
      "text/plain": [
       "ECEF(-195096.58265667254, 5.512084465685038e6, 3.1923052497591996e6)"
      ]
     },
     "execution_count": 204,
     "metadata": {},
     "output_type": "execute_result"
    }
   ],
   "source": [
    "myspot = LLA( 30.228711, 92.027100 )\n",
    "ced404 = LLA( 30.228678, 92.027272 )\n",
    "ber266 = LLA( 30.204461, 92.031397 )\n",
    "\n",
    "\n",
    "using Printf\n",
    "@printf \"%.4f\" distance(ced404, ber266)/1000\n",
    "\n",
    "# for 3-D transformation; put into cartesian coordinates \n",
    "myspotECEF = ECEF( myspot, wgs84 )\n",
    "\n"
   ]
  }
 ],
 "metadata": {
  "kernelspec": {
   "display_name": "Julia 1.1.0",
   "language": "julia",
   "name": "julia-1.1"
  },
  "language_info": {
   "file_extension": ".jl",
   "mimetype": "application/julia",
   "name": "julia",
   "version": "1.1.0"
  }
 },
 "nbformat": 4,
 "nbformat_minor": 2
}
