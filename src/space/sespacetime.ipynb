{
 "cells": [
  {
   "cell_type": "code",
   "execution_count": 1,
   "metadata": {},
   "outputs": [
    {
     "data": {
      "text/plain": [
       "0.3141592653589793"
      ]
     },
     "execution_count": 1,
     "metadata": {},
     "output_type": "execute_result"
    }
   ],
   "source": [
    "# all things geodesic including transformations between standard \n",
    "# geospatial coordinate systems\n",
    "using Geodesy\n",
    "\n",
    "# for direct manipulations of Cartesian and Longitude-Latitude coordinates\n",
    "using CoordinateTransformations, Rotations, StaticArrays\n",
    "\n",
    "\n",
    "include(\"mathies.jl\")\n",
    "\n",
    "\n"
   ]
  },
  {
   "cell_type": "code",
   "execution_count": 2,
   "metadata": {},
   "outputs": [
    {
     "data": {
      "text/plain": [
       "0.3141592653589793"
      ]
     },
     "execution_count": 2,
     "metadata": {},
     "output_type": "execute_result"
    }
   ],
   "source": [
    "pio10"
   ]
  },
  {
   "cell_type": "code",
   "execution_count": 4,
   "metadata": {},
   "outputs": [
    {
     "data": {
      "text/plain": [
       "12-element Array{Any,1}:\n",
       " Bead(LLA(lat=-90.0°, lon=90.0°, alt=0.0), 2.826390255215226e6, \"MA\", \"point 1 of 12 equidistant points\")      \n",
       " Bead(LLA(lat=-26.56505°, lon=-72.0°, alt=0.0), 2.826390255215226e6, \"BA\", \"point 2 of 12 equidistant points\") \n",
       " Bead(LLA(lat=-26.56505°, lon=144.0°, alt=0.0), 2.826390255215226e6, \"DA\", \"point 3 of 12 equidistant points\") \n",
       " Bead(LLA(lat=-26.56505°, lon=72.0°, alt=0.0), 2.826390255215226e6, \"LA\", \"point 4 of 12 equidistant points\")  \n",
       " Bead(LLA(lat=-26.56505°, lon=-144.0°, alt=0.0), 2.826390255215226e6, \"KA\", \"point 5 of 12 equidistant points\")\n",
       " Bead(LLA(lat=-26.56505°, lon=0.0°, alt=0.0), 2.826390255215226e6, \"SA\", \"point 6 of 12 equidistant points\")   \n",
       " Bead(LLA(lat=90.0°, lon=-90.0°, alt=0.0), 2.826390255215226e6, \"ME\", \"point 7 of 12 equidistant points\")      \n",
       " Bead(LLA(lat=26.56505°, lon=108.0°, alt=0.0), 2.826390255215226e6, \"BE\", \"point 8 of 12 equidistant points\")  \n",
       " Bead(LLA(lat=26.56505°, lon=-36.0°, alt=0.0), 2.826390255215226e6, \"DE\", \"point 9 of 12 equidistant points\")  \n",
       " Bead(LLA(lat=26.56505°, lon=-108.0°, alt=0.0), 2.826390255215226e6, \"LE\", \"point 10 of 12 equidistant points\")\n",
       " Bead(LLA(lat=26.56505°, lon=36.0°, alt=0.0), 2.826390255215226e6, \"KE\", \"point 11 of 12 equidistant points\")  \n",
       " Bead(LLA(lat=26.56505°, lon=180.0°, alt=0.0), 2.826390255215226e6, \"SE\", \"point 12 of 12 equidistant points\") "
      ]
     },
     "execution_count": 4,
     "metadata": {},
     "output_type": "execute_result"
    }
   ],
   "source": [
    "# generate the coordinates for global positioning centerpoints (beads)\n",
    "#   icosohedral vertices are centerpoints of the 12 dodecahedral regions \n",
    "\n",
    "\n",
    "# icoso_verts points have an edge not a vertex at top and bottom;\n",
    "# rotate -31.71 degrees ( -( pi/2 - atan(Φ) ) ) on the X axis\n",
    "rotateX  = LinearMap( RotX( -( pi/2 - atan(Φ)) ) )\n",
    "# that results in untidy longitudes; spin eastward 18 degrees\n",
    "rotateZ  = LinearMap( RotZ(pi/10) )\n",
    "# create a composite rotation\n",
    "rotate = rotateZ ∘ rotateX \n",
    "points = SVector.(rotate.(GEO_ICOSO_VERTS))\n",
    "\n",
    "\n",
    "\n",
    "# generate LLA's for each point\n",
    "\n",
    "\n",
    "# radius here is the distance of the vertex from the icosohedron center\n",
    "icoso_circumradius = sqrt(Φ^2 + 1)\n",
    "\n",
    "# latitude is asin(z / R)\n",
    "#   with rounding to prevent error in asin when |z/r| > 1\n",
    "bead_lats = asin.( round(point[3]/icoso_circumradius, sigdigits=9) for point in points)\n",
    "\n",
    "# longitude is atan2(y, x)\n",
    "bead_lons = [atan(point[2],point[1]) for point in points]\n",
    "\n",
    "degrees_lat = round.(rad2deg.(bead_lats), sigdigits=7)\n",
    "degrees_lon = round.(rad2deg.(bead_lons))\n",
    "\n",
    "earth12_labels = [\"MA\",\"BA\",\"DA\",\"LA\",\"KA\",\"SA\",\"ME\",\"BE\",\"DE\",\"LE\",\"KE\",\"SE\"]\n",
    "\n",
    "struct Bead\n",
    "    location::LLA\n",
    "    radius::Float64\n",
    "    label::String\n",
    "    description::String\n",
    "end\n",
    "\n",
    "expansion = 1 + 2π/5\n",
    "contraction = 1 / (1 + 2π/5)\n",
    "\n",
    "earth12 = []\n",
    "\n",
    "for i in 1:12    \n",
    "    push!(earth12, Bead(LLA(degrees_lat[i],  degrees_lon[i]),\n",
    "                        contraction * earth_radius,\n",
    "                        earth12_labels[i],\n",
    "                        \"point \" * string(i) * \" of 12 equidistant points\"))\n",
    "end\n",
    "earth12\n"
   ]
  },
  {
   "cell_type": "code",
   "execution_count": 20,
   "metadata": {},
   "outputs": [
    {
     "data": {
      "text/plain": [
       "earth12"
      ]
     },
     "execution_count": 20,
     "metadata": {},
     "output_type": "execute_result"
    }
   ],
   "source": [
    "# pi/10 is 18 degrees, 3 * pi/10 is 54\n",
    "# in geographic terms, the first element of each pair is North (Z+), the second is East (Y+)\n",
    "directions = SVector.([ ( 0           ,  0            ), \n",
    "                        ( sin(pi/10)  , -cos(pi/10)   ), \n",
    "                        (-sin(3*pi/10), -cos(3*pi/10) ), \n",
    "                        (-sin(3*pi/10),  cos(3*pi/10) ),\n",
    "                        ( sin(pi/10)  ,  cos(pi/10)   ), \n",
    "                        ( Φ           ,  0            )])\n",
    "\n",
    "# these directions help form transformations for expanding and and contracting an area;\n",
    "# nothing gets changed on X; Y is the East/second element; Z is the North/first element\n",
    "transformations = [] \n",
    "for direction in directions\n",
    "    push!(transformations, \n",
    "        LinearMap(RotZ(direction[1])) ∘ LinearMap(RotY(direction[2])))\n",
    "end\n",
    "# each point has its latitude and longitude calculated relative to the original point and the new radius \n",
    "\n",
    "labels = [\"M\",\"B\",\"D\",\"L\", \"K\", \"S\"]\n",
    "function contract(bead::Bead)\n",
    "    beads = []\n",
    "    #radius = bead.radius * contraction\n",
    "    radius = bead.radius # * contraction\n",
    "\n",
    "    for i in 1:6         \n",
    "        push!(beads, Bead(bead.location, radius, bead.label * labels[i], \"\" ))\n",
    "    end\n",
    "    return beads \n",
    "end\n",
    "\n",
    "contract(earth12[2])\n",
    "transformations\n",
    "#directions\n",
    "bead=earth12[2]\n",
    "\"\"\"\n",
    "for transform in transformations\n",
    "    println(bead.location ) #* transform)\n",
    "end\n",
    "    \n",
    "\"\"\"\n",
    "earth12\n"
   ]
  },
  {
   "cell_type": "code",
   "execution_count": 11,
   "metadata": {},
   "outputs": [
    {
     "data": {
      "text/plain": [
       "6-element Array{Any,1}:\n",
       " Bead(LLA(lat=-90.0°, lon=90.0°, alt=0.0), 2.826390255215226e6, \"MAM\", \"\")\n",
       " Bead(LLA(lat=-90.0°, lon=90.0°, alt=0.0), 2.826390255215226e6, \"MAB\", \"\")\n",
       " Bead(LLA(lat=-90.0°, lon=90.0°, alt=0.0), 2.826390255215226e6, \"MAD\", \"\")\n",
       " Bead(LLA(lat=-90.0°, lon=90.0°, alt=0.0), 2.826390255215226e6, \"MAL\", \"\")\n",
       " Bead(LLA(lat=-90.0°, lon=90.0°, alt=0.0), 2.826390255215226e6, \"MAK\", \"\")\n",
       " Bead(LLA(lat=-90.0°, lon=90.0°, alt=0.0), 2.826390255215226e6, \"MAS\", \"\")"
      ]
     },
     "execution_count": 11,
     "metadata": {},
     "output_type": "execute_result"
    }
   ],
   "source": [
    "contract(earth12[1])"
   ]
  },
  {
   "cell_type": "code",
   "execution_count": 93,
   "metadata": {},
   "outputs": [
    {
     "name": "stdout",
     "output_type": "stream",
     "text": [
      "2.7138"
     ]
    },
    {
     "data": {
      "text/plain": [
       "ECEF(-195096.58265667254, 5.512084465685038e6, 3.1923052497591996e6)"
      ]
     },
     "execution_count": 93,
     "metadata": {},
     "output_type": "execute_result"
    }
   ],
   "source": [
    "myspot = LLA( 30.228711, 92.027100 )\n",
    "ced404 = LLA( 30.228678, 92.027272 )\n",
    "ber266 = LLA( 30.204461, 92.031397 )\n",
    "\n",
    "\n",
    "using Printf\n",
    "@printf \"%.4f\" distance(ced404, ber266)/1000\n",
    "\n",
    "# for 3-D transformation; put into cartesian coordinates \n",
    "myspotECEF = ECEF( myspot, wgs84 )\n",
    "\n"
   ]
  }
 ],
 "metadata": {
  "kernelspec": {
   "display_name": "Julia 1.1.0",
   "language": "julia",
   "name": "julia-1.1"
  },
  "language_info": {
   "file_extension": ".jl",
   "mimetype": "application/julia",
   "name": "julia",
   "version": "1.1.0"
  }
 },
 "nbformat": 4,
 "nbformat_minor": 2
}
