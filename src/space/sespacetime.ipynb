{
 "cells": [
  {
   "cell_type": "code",
   "execution_count": 2,
   "metadata": {},
   "outputs": [
    {
     "data": {
      "text/plain": [
       "0.3141592653589793"
      ]
     },
     "execution_count": 2,
     "metadata": {},
     "output_type": "execute_result"
    }
   ],
   "source": [
    "using Geodesy\n",
    "include(\"mathies.jl\")"
   ]
  },
  {
   "cell_type": "code",
   "execution_count": 3,
   "metadata": {},
   "outputs": [
    {
     "data": {
      "text/plain": [
       "ECEF(-195096.58265667254, 5.512084465685038e6, 3.1923052497591996e6)"
      ]
     },
     "execution_count": 3,
     "metadata": {},
     "output_type": "execute_result"
    }
   ],
   "source": [
    "myspot = LLA( 30.228711, 92.027100 )\n",
    "ced404 = LLA( 30.228678, 92.027272 )\n",
    "ber266 = LLA( 30.204461, 92.031397 )\n",
    "# for 3-D transformation; put into cartesian coordinates \n",
    "myspotECEF = ECEF( myspot, wgs84 )"
   ]
  },
  {
   "cell_type": "code",
   "execution_count": 35,
   "metadata": {},
   "outputs": [
    {
     "data": {
      "text/plain": [
       "3-element Array{Float64,1}:\n",
       "  0.0               \n",
       " -0.6180339887498949\n",
       "  1.618033988749895 "
      ]
     },
     "execution_count": 35,
     "metadata": {},
     "output_type": "execute_result"
    }
   ],
   "source": [
    "n = Z + Y \n",
    "o = Z - Y\n",
    "p = X + Z\n",
    "q = X - Z\n",
    "r = Y + X\n",
    "s = Y - X\n",
    "\n",
    "nfi =     Z + Φ * Y\n",
    "nfe = φ * Z + Φ * Y\n",
    "\n",
    "ofe = Φ * Z - φ * Y \n"
   ]
  }
 ],
 "metadata": {
  "kernelspec": {
   "display_name": "Julia 1.1.0",
   "language": "julia",
   "name": "julia-1.1"
  },
  "language_info": {
   "file_extension": ".jl",
   "mimetype": "application/julia",
   "name": "julia",
   "version": "1.1.0"
  }
 },
 "nbformat": 4,
 "nbformat_minor": 2
}
