{
 "cells": [
  {
   "cell_type": "code",
   "execution_count": 1,
   "metadata": {},
   "outputs": [],
   "source": [
    "using Geodesy\n",
    "include(\"mathies.jl\")"
   ]
  },
  {
   "cell_type": "code",
   "execution_count": 2,
   "metadata": {},
   "outputs": [
    {
     "data": {
      "text/plain": [
       "LLA(lat=30.204461°, lon=92.031397°, alt=0.0)"
      ]
     },
     "execution_count": 2,
     "metadata": {},
     "output_type": "execute_result"
    }
   ],
   "source": [
    "myspot = LLA( 30.228711, 92.027100 )\n",
    "ced404 = LLA( 30.228678, 92.027272 )\n",
    "ber266 = LLA( 30.204461, 92.031397 )\n",
    "# if I wanted to do a 3-D transformation; to put into cartesian coordinates do \n",
    "myspotECEF = ECEF( myspot, wgs84 )"
   ]
  },
  {
   "cell_type": "code",
   "execution_count": 15,
   "metadata": {},
   "outputs": [
    {
     "data": {
      "text/plain": [
       "\" modgin treats space as an expanding or contracting series of pentagonally-related circles (as spheres is hopefully doablef);\\n\\n    it divides/expands a circle into six new circles, with the centerpoint of the center circle remaining the same,\\n    and new centerpoints for the five new circles at predermined distances and angles from the original centerpoint\\n\\n    for this reason, mapping space in modgin relies heavily on the use of the \\\"ENU\\\" (East, North, Up) coordinate system; \\n    once the first 12 coordinates for earth's surface are established, the coordinates for every lower level are relative\\n    those positions\\n\\n    \\n\\n\""
      ]
     },
     "execution_count": 15,
     "metadata": {},
     "output_type": "execute_result"
    }
   ],
   "source": [
    "\"\"\" modgin treats space as an expanding or contracting series of pentagonally-arranged, overlapping circles \n",
    "\n",
    "    it divides/expands a circle into six new circles, with the centerpoint of the center circle remaining the same,\n",
    "    and new centerpoints for the five new circles at predermined distances and angles from the original centerpoint\n",
    "\n",
    "    for this reason, mapping space in modgin relies heavily on the use of the \"ENU\" (East, North, Up) coordinate system; \n",
    "    once the first 12 coordinates for earth's surface are established, the coordinates for every lower level are relative\n",
    "    those positions\n",
    "\n",
    "    The SESpaces Coordinate System specifies twelve points on the globe as \"beads,\" or centerpoints for six regions \n",
    "    each in the northern and southern hemispheres. \n",
    "\n",
    "    These regions \n",
    "\"\"\"    "
   ]
  },
  {
   "cell_type": "code",
   "execution_count": 10,
   "metadata": {},
   "outputs": [
    {
     "data": {
      "text/plain": [
       "36.0"
      ]
     },
     "execution_count": 10,
     "metadata": {},
     "output_type": "execute_result"
    }
   ],
   "source": [
    "hafu / hafe\n",
    "rad2deg(pio5)"
   ]
  }
 ],
 "metadata": {
  "kernelspec": {
   "display_name": "Julia 1.1.0",
   "language": "julia",
   "name": "julia-1.1"
  },
  "language_info": {
   "file_extension": ".jl",
   "mimetype": "application/julia",
   "name": "julia",
   "version": "1.1.0"
  }
 },
 "nbformat": 4,
 "nbformat_minor": 2
}
